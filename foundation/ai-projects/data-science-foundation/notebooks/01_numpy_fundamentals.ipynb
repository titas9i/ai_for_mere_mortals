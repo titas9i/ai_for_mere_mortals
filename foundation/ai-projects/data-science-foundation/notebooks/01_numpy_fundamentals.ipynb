{
 "cells": [
  {
   "cell_type": "code",
   "execution_count": 2,
   "id": "ef081df0",
   "metadata": {},
   "outputs": [
    {
     "name": "stdout",
     "output_type": "stream",
     "text": [
      "NumPy: The Foundation of AI Mathematics\n",
      "========================================\n",
      "Python Lists vs NumPy Arrays Performance:\n",
      "Python list multiplication: 0.0132 seconds\n",
      "NumPy array multiplication: 0.0009 seconds\n",
      "NumPy is 14.9x faster! 🚀\n"
     ]
    }
   ],
   "source": [
    "# Create a new notebook: notebooks/01_numpy_fundamentals.ipynb\n",
    "import numpy as np\n",
    "import time\n",
    "print(\"NumPy: The Foundation of AI Mathematics\")\n",
    "print(\"=\" * 40)\n",
    "# Understanding why NumPy matters for AI\n",
    "print(\"Python Lists vs NumPy Arrays Performance:\")\n",
    "# Create large datasets (typical in AI)\n",
    "python_list = list(range(1000000))\n",
    "numpy_array = np.array(python_list)\n",
    "# Test mathematical operations speed\n",
    "start_time = time.time()\n",
    "python_result = [x * 2 for x in python_list]\n",
    "python_time = time.time() - start_time\n",
    "start_time = time.time()\n",
    "numpy_result = numpy_array * 2\n",
    "numpy_time = time.time() - start_time\n",
    "print(f\"Python list multiplication: {python_time:.4f} seconds\")\n",
    "print(f\"NumPy array multiplication: {numpy_time:.4f} seconds\")\n",
    "print(f\"NumPy is {python_time/numpy_time:.1f}x faster! 🚀\")"
   ]
  },
  {
   "cell_type": "code",
   "execution_count": 4,
   "id": "4b4c9e56",
   "metadata": {},
   "outputs": [
    {
     "name": "stdout",
     "output_type": "stream",
     "text": [
      "\n",
      "1. Array Creation Techniques:\n",
      "From list: [1 2 3 4 5]\n",
      "Zeros matrix:\n",
      "[[0. 0. 0. 0.]\n",
      " [0. 0. 0. 0.]\n",
      " [0. 0. 0. 0.]]\n",
      "Random weights (normal):\n",
      "[[-0.77050247 -0.01665525  2.82010558]\n",
      " [ 1.61055394 -0.70174333  2.12839926]\n",
      " [-0.77574628  1.67388832  0.8551964 ]]\n",
      "Random data (uniform):\n",
      "[[0.59266926 0.24188209 0.88643591 0.92352018]\n",
      " [0.53467209 0.1971271  0.90219525 0.43769647]]\n",
      "Sequence: [0 2 4 6 8]\n",
      "Linspace: [0.   0.25 0.5  0.75 1.  ]\n"
     ]
    }
   ],
   "source": [
    "# Essential NumPy operations for AI development\n",
    "\n",
    "# 1. Array Creation - Building Blocks of AI Data\n",
    "print(\"\\n1. Array Creation Techniques:\")\n",
    "\n",
    "# From lists (common when loading data)\n",
    "data_list = [1, 2, 3, 4, 5]\n",
    "arr_from_list = np.array(data_list)\n",
    "print(f\"From list: {arr_from_list}\")\n",
    "\n",
    "# Zeros and ones (neural network initialization)\n",
    "zeros_matrix = np.zeros((3, 4))  # 3 rows, 4 columns\n",
    "ones_matrix = np.ones((2, 3))\n",
    "print(f\"Zeros matrix:\\n{zeros_matrix}\")\n",
    "\n",
    "# Random arrays (essential for AI model initialization)\n",
    "random_weights = np.random.randn(3, 3)  # Normal distribution\n",
    "random_data = np.random.random((2, 4))   # Uniform distribution\n",
    "print(f\"Random weights (normal):\\n{random_weights}\")\n",
    "print(f\"Random data (uniform):\\n{random_data}\")\n",
    "\n",
    "# Ranges (useful for creating indices and sequences)\n",
    "sequence = np.arange(0, 10, 2)  # Start, stop, step\n",
    "linspace_vals = np.linspace(0, 1, 5)  # 5 values between 0 and 1\n",
    "print(f\"Sequence: {sequence}\")\n",
    "print(f\"Linspace: {linspace_vals}\")"
   ]
  },
  {
   "cell_type": "code",
   "execution_count": 5,
   "id": "55272efd",
   "metadata": {},
   "outputs": [
    {
     "name": "stdout",
     "output_type": "stream",
     "text": [
      "\n",
      "2. Essential Array Operations:\n",
      "Addition: [ 6  8 10 12]\n",
      "Multiplication: [ 5 12 21 32]\n",
      "Power: [ 1  4  9 16]\n",
      "Matrix multiplication:\n",
      "[[19 22]\n",
      " [43 50]]\n",
      "Broadcasting (matrix + scalar):\n",
      "[[11 12]\n",
      " [13 14]]\n"
     ]
    }
   ],
   "source": [
    "# 2. Array Operations - The Heart of AI Computations\n",
    "print(\"\\n2. Essential Array Operations:\")\n",
    "\n",
    "# Mathematical operations (used in every AI algorithm)\n",
    "arr1 = np.array([1, 2, 3, 4])\n",
    "arr2 = np.array([5, 6, 7, 8])\n",
    "\n",
    "# Element-wise operations\n",
    "addition = arr1 + arr2\n",
    "multiplication = arr1 * arr2\n",
    "power = arr1 ** 2\n",
    "\n",
    "print(f\"Addition: {addition}\")\n",
    "print(f\"Multiplication: {multiplication}\")\n",
    "print(f\"Power: {power}\")\n",
    "\n",
    "# Matrix operations (core of neural networks)\n",
    "matrix_a = np.array([[1, 2], [3, 4]])\n",
    "matrix_b = np.array([[5, 6], [7, 8]])\n",
    "\n",
    "# Dot product (matrix multiplication) - fundamental in AI\n",
    "dot_product = np.dot(matrix_a, matrix_b)\n",
    "print(f\"Matrix multiplication:\\n{dot_product}\")\n",
    "\n",
    "# Broadcasting (allows operations between different sized arrays)\n",
    "scalar = 10\n",
    "broadcasted = matrix_a + scalar  # Adds 10 to every element\n",
    "print(f\"Broadcasting (matrix + scalar):\\n{broadcasted}\")"
   ]
  },
  {
   "cell_type": "code",
   "execution_count": 6,
   "id": "179c4119",
   "metadata": {},
   "outputs": [
    {
     "name": "stdout",
     "output_type": "stream",
     "text": [
      "\n",
      "3. Statistical Operations:\n",
      "Model Performance Analysis:\n",
      "Mean accuracy: 0.859\n",
      "Standard deviation: 0.019\n",
      "Median accuracy: 0.855\n",
      "Min/Max accuracy: (np.float64(0.83), np.float64(0.89))\n",
      "Feature means: [-0.04513199 -0.0792848  -0.15418964]\n",
      "Sample means shape: (100,)\n"
     ]
    }
   ],
   "source": [
    "# 3. Statistical Operations - Data Analysis for AI\n",
    "print(\"\\n3. Statistical Operations:\")\n",
    "\n",
    "# Create sample data (simulating model performance metrics)\n",
    "model_scores = np.array([0.85, 0.87, 0.83, 0.89, 0.86, 0.84, 0.88, 0.85])\n",
    "\n",
    "# Descriptive statistics\n",
    "mean_score = np.mean(model_scores)\n",
    "std_score = np.std(model_scores)\n",
    "median_score = np.median(model_scores)\n",
    "min_max = np.min(model_scores), np.max(model_scores)\n",
    "\n",
    "print(f\"Model Performance Analysis:\")\n",
    "print(f\"Mean accuracy: {mean_score:.3f}\")\n",
    "print(f\"Standard deviation: {std_score:.3f}\")\n",
    "print(f\"Median accuracy: {median_score:.3f}\")\n",
    "print(f\"Min/Max accuracy: {min_max}\")\n",
    "\n",
    "# Multi-dimensional statistics\n",
    "data_2d = np.random.randn(100, 3)  # 100 samples, 3 features\n",
    "column_means = np.mean(data_2d, axis=0)  # Mean of each feature\n",
    "row_means = np.mean(data_2d, axis=1)     # Mean of each sample\n",
    "\n",
    "print(f\"Feature means: {column_means}\")\n",
    "print(f\"Sample means shape: {row_means.shape}\")"
   ]
  },
  {
   "cell_type": "code",
   "execution_count": 7,
   "id": "c0f38ac5",
   "metadata": {},
   "outputs": [
    {
     "name": "stdout",
     "output_type": "stream",
     "text": [
      "\n",
      "4. Array Reshaping and Indexing:\n",
      "Original: [ 0  1  2  3  4  5  6  7  8  9 10 11 12 13 14 15 16 17 18 19 20 21 22 23]\n",
      "2D reshape:\n",
      "[[ 0  1  2  3  4  5]\n",
      " [ 6  7  8  9 10 11]\n",
      " [12 13 14 15 16 17]\n",
      " [18 19 20 21 22 23]]\n",
      "3D shape: (2, 3, 4)\n",
      "Positive values percentage: 50.7%\n",
      "Outliers percentage: 4.5%\n",
      "Selected samples shape: (4, 5)\n",
      "Selected features shape: (1000, 3)\n"
     ]
    }
   ],
   "source": [
    "# 4. Array Reshaping and Indexing - Data Preparation for AI\n",
    "print(\"\\n4. Array Reshaping and Indexing:\")\n",
    "\n",
    "# Reshaping (essential for preparing data for neural networks)\n",
    "original_data = np.arange(24)\n",
    "reshaped_2d = original_data.reshape(4, 6)  # 4 rows, 6 columns\n",
    "reshaped_3d = original_data.reshape(2, 3, 4)  # 3D tensor\n",
    "\n",
    "print(f\"Original: {original_data}\")\n",
    "print(f\"2D reshape:\\n{reshaped_2d}\")\n",
    "print(f\"3D shape: {reshaped_3d.shape}\")\n",
    "\n",
    "# Advanced indexing (data filtering and selection)\n",
    "large_dataset = np.random.randn(1000, 5)  # 1000 samples, 5 features\n",
    "\n",
    "# Boolean indexing (filtering data based on conditions)\n",
    "positive_values = large_dataset > 0\n",
    "outliers = np.abs(large_dataset) > 2  # Values more than 2 standard deviations\n",
    "\n",
    "print(f\"Positive values percentage: {np.mean(positive_values)*100:.1f}%\")\n",
    "print(f\"Outliers percentage: {np.mean(outliers)*100:.1f}%\")\n",
    "\n",
    "# Fancy indexing (selecting specific rows/columns)\n",
    "selected_samples = large_dataset[[0, 10, 100, 500]]  # Select specific rows\n",
    "selected_features = large_dataset[:, [0, 2, 4]]       # Select specific columns\n",
    "\n",
    "print(f\"Selected samples shape: {selected_samples.shape}\")\n",
    "print(f\"Selected features shape: {selected_features.shape}\")"
   ]
  },
  {
   "cell_type": "code",
   "execution_count": 8,
   "id": "7ba3efd6",
   "metadata": {},
   "outputs": [
    {
     "name": "stdout",
     "output_type": "stream",
     "text": [
      "\n",
      "5. Linear Algebra for AI:\n",
      "Input shape: (5, 3)\n",
      "Hidden layer shape: (5, 4)\n",
      "Output shape: (5, 2)\n",
      "Sample output: [-0.0009332   0.00304819]\n",
      "Eigenvalues: [-0.23606798  4.23606798]\n",
      "Eigenvectors:\n",
      "[[-0.85065081 -0.52573111]\n",
      " [ 0.52573111 -0.85065081]]\n"
     ]
    }
   ],
   "source": [
    "# 5. Linear Algebra Operations - Neural Network Mathematics\n",
    "print(\"\\n5. Linear Algebra for AI:\")\n",
    "\n",
    "# Simulating a simple neural network forward pass\n",
    "# Input layer (3 features) -> Hidden layer (4 neurons) -> Output layer (2 classes)\n",
    "\n",
    "# Input data (batch of 5 samples, 3 features each)\n",
    "X = np.random.randn(5, 3)\n",
    "\n",
    "# Weight matrices (randomly initialized like in real neural networks)\n",
    "W1 = np.random.randn(3, 4) * 0.1  # Input to hidden weights\n",
    "b1 = np.zeros((1, 4))              # Hidden layer bias\n",
    "W2 = np.random.randn(4, 2) * 0.1  # Hidden to output weights\n",
    "b2 = np.zeros((1, 2))              # Output layer bias\n",
    "\n",
    "# Forward pass computation\n",
    "hidden_layer = np.dot(X, W1) + b1  # Linear transformation\n",
    "hidden_activation = np.maximum(0, hidden_layer)  # ReLU activation\n",
    "output_layer = np.dot(hidden_activation, W2) + b2\n",
    "\n",
    "print(f\"Input shape: {X.shape}\")\n",
    "print(f\"Hidden layer shape: {hidden_layer.shape}\")\n",
    "print(f\"Output shape: {output_layer.shape}\")\n",
    "print(f\"Sample output: {output_layer[0]}\")\n",
    "\n",
    "# Matrix properties (useful for understanding AI algorithms)\n",
    "symmetric_matrix = np.array([[1, 2], [2, 3]])\n",
    "eigenvalues, eigenvectors = np.linalg.eig(symmetric_matrix)\n",
    "\n",
    "print(f\"Eigenvalues: {eigenvalues}\")\n",
    "print(f\"Eigenvectors:\\n{eigenvectors}\")"
   ]
  },
  {
   "cell_type": "code",
   "execution_count": null,
   "id": "494a58f8",
   "metadata": {},
   "outputs": [],
   "source": []
  }
 ],
 "metadata": {
  "kernelspec": {
   "display_name": "ai-unleashed",
   "language": "python",
   "name": "python3"
  },
  "language_info": {
   "codemirror_mode": {
    "name": "ipython",
    "version": 3
   },
   "file_extension": ".py",
   "mimetype": "text/x-python",
   "name": "python",
   "nbconvert_exporter": "python",
   "pygments_lexer": "ipython3",
   "version": "3.12.11"
  }
 },
 "nbformat": 4,
 "nbformat_minor": 5
}
